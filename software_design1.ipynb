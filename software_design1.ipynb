{
 "cells": [
  {
   "cell_type": "code",
   "execution_count": 5,
   "metadata": {},
   "outputs": [
    {
     "data": {
      "text/plain": [
       "[2, 4, 6]"
      ]
     },
     "execution_count": 5,
     "metadata": {},
     "output_type": "execute_result"
    }
   ],
   "source": [
    "def twotimes(x):\n",
    "    return x*2\n",
    "\n",
    "doubleme = twotimes\n",
    "\n",
    "list(map(doubleme,[1,2,3]))"
   ]
  },
  {
   "cell_type": "code",
   "execution_count": 4,
   "metadata": {},
   "outputs": [
    {
     "name": "stdout",
     "output_type": "stream",
     "text": [
      "heyyyyy\n",
      "did it\n",
      "yeahhhhh\n"
     ]
    }
   ],
   "source": [
    "def someFunc():\n",
    "    print(\"did it\")\n",
    "\n",
    "def wrapper(funcToRun):\n",
    "    print('heyyyyy')\n",
    "    funcToRun()\n",
    "    print('yeahhhhh')\n",
    "wrapper(someFunc)"
   ]
  },
  {
   "cell_type": "code",
   "execution_count": 14,
   "metadata": {},
   "outputs": [],
   "source": [
    "#lets build a decorator\n",
    "def myDecorator(funcToRun):\n",
    "    def wrapper():\n",
    "        print('this ...')\n",
    "        funcToRun()\n",
    "        print('...wrapped')\n",
    "    return wrapper"
   ]
  },
  {
   "cell_type": "code",
   "execution_count": 15,
   "metadata": {},
   "outputs": [
    {
     "name": "stdout",
     "output_type": "stream",
     "text": [
      "this ...\n",
      "hiiiii\n",
      "...wrapped\n"
     ]
    }
   ],
   "source": [
    "@myDecorator\n",
    "def hello():\n",
    "    print('hiiiii')\n",
    "\n",
    "hello()\n",
    "\n"
   ]
  },
  {
   "cell_type": "code",
   "execution_count": null,
   "metadata": {},
   "outputs": [],
   "source": []
  },
  {
   "cell_type": "markdown",
   "metadata": {},
   "source": [
    "# why are global variables bad"
   ]
  },
  {
   "cell_type": "code",
   "execution_count": 19,
   "metadata": {},
   "outputs": [
    {
     "name": "stdout",
     "output_type": "stream",
     "text": [
      "5\n"
     ]
    }
   ],
   "source": [
    "def task():\n",
    "\n",
    "    x = 10\n",
    "\n",
    "x = 5\n",
    "\n",
    "task()\n",
    "print(x)"
   ]
  },
  {
   "cell_type": "code",
   "execution_count": 20,
   "metadata": {},
   "outputs": [
    {
     "name": "stdout",
     "output_type": "stream",
     "text": [
      "10\n"
     ]
    }
   ],
   "source": [
    "#this is why\n",
    "\n",
    "def task():\n",
    "    global x\n",
    "    x = 10\n",
    "\n",
    "x = 5\n",
    "\n",
    "task()\n",
    "print(x)"
   ]
  },
  {
   "cell_type": "code",
   "execution_count": 18,
   "metadata": {},
   "outputs": [
    {
     "data": {
      "text/plain": [
       "18"
      ]
     },
     "execution_count": 18,
     "metadata": {},
     "output_type": "execute_result"
    }
   ],
   "source": [
    "a = 3\n",
    "def dostuff(b):\n",
    "    return a*b\n",
    "\n",
    "dostuff(6)"
   ]
  },
  {
   "cell_type": "code",
   "execution_count": 31,
   "metadata": {},
   "outputs": [
    {
     "name": "stdout",
     "output_type": "stream",
     "text": [
      "012   hellohellohello\n",
      "\n",
      "\n",
      "102   worldworldworld\n",
      "\n",
      "\n"
     ]
    }
   ],
   "source": [
    "from concurrent.futures import ProcessPoolExecutor\n",
    "import time\n",
    "\n",
    "def hello(i):\n",
    "    print(i, 'hello')\n",
    "    print(i, 'world')\n",
    "\n",
    "executor = ProcessPoolExecutor()\n",
    "futures = [executor.submit(hello, i) for i in range(3)]\n",
    "\n",
    "for future in futures:\n",
    "    future.result()"
   ]
  },
  {
   "cell_type": "code",
   "execution_count": 30,
   "metadata": {},
   "outputs": [
    {
     "name": "stdout",
     "output_type": "stream",
     "text": [
      "1 hello\n",
      "1 world\n",
      "0 hello\n",
      "0 world\n",
      "2 hello\n",
      "2 world\n"
     ]
    }
   ],
   "source": [
    "from concurrent.futures import ProcessPoolExecutor\n",
    "import time\n",
    "import multiprocessing\n",
    "\n",
    "def hello(i, lock):\n",
    "    with lock:\n",
    "        print(i, 'hello')\n",
    "        print(i, 'world')\n",
    "\n",
    "lock = multiprocessing.Manager().Lock()\n",
    "executor = ProcessPoolExecutor()\n",
    "futures = [executor.submit(hello, i, lock) for i in range(3)]\n",
    "\n",
    "for future in futures:\n",
    "    future.result()\n",
    "\n",
    "#lock before sensitive operations like file lock, because it locks everything within the context manager"
   ]
  },
  {
   "cell_type": "code",
   "execution_count": null,
   "metadata": {},
   "outputs": [],
   "source": []
  }
 ],
 "metadata": {
  "kernelspec": {
   "display_name": "scomp",
   "language": "python",
   "name": "python3"
  },
  "language_info": {
   "codemirror_mode": {
    "name": "ipython",
    "version": 3
   },
   "file_extension": ".py",
   "mimetype": "text/x-python",
   "name": "python",
   "nbconvert_exporter": "python",
   "pygments_lexer": "ipython3",
   "version": "3.10.12"
  }
 },
 "nbformat": 4,
 "nbformat_minor": 2
}
